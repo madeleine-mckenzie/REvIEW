{
 "metadata": {
  "language_info": {
   "codemirror_mode": {
    "name": "ipython",
    "version": 3
   },
   "file_extension": ".py",
   "mimetype": "text/x-python",
   "name": "python",
   "nbconvert_exporter": "python",
   "pygments_lexer": "ipython3",
   "version": "3.6.13"
  },
  "orig_nbformat": 2,
  "kernelspec": {
   "name": "python3",
   "display_name": "Python 3.6.13 64-bit ('base': conda)"
  },
  "interpreter": {
   "hash": "4bfe98e261e1741f58da93388cac14c983cb907a923dcfb26c54a7b9d0802fe4"
  }
 },
 "nbformat": 4,
 "nbformat_minor": 2,
 "cells": [
  {
   "cell_type": "markdown",
   "source": [
    "# REvIEW\n",
    "## Equivalent width calculator\n",
    "***R***outine for\n",
    "***Ev***aluating and \n",
    "***I***nspecting\n",
    "***E***quivalent\n",
    "***W***idths\n",
    "\n",
    "\n",
    "Based on postage40mpfit.pro by Dr David Yong.\n",
    "\n",
    "This notebook should output a csv and a plot for every line you are fitting to.\n",
    "\n",
    "\n",
    "\n",
    "### Relavent files\n",
    "\n",
    "There are two files which contain all the functions.\n",
    "\n",
    "```REvIEW_plots.py```: concerns any functions in charge of creating the plots. These funcitons call the fitting functions within the plotting functions.\n",
    "\n",
    "```REvIEW_fitting.py```: contains all the fitting functions. This includes the gradient preprocessing algorithm and the variable gaussian fitting functions. "
   ],
   "metadata": {}
  },
  {
   "cell_type": "markdown",
   "source": [
    "## Imports\n",
    "\n",
    "Add any python modules to ```my_imports.py```. \n",
    "\n",
    "There are two files which contain REvIEW functions. The only functions that are needed here are in the plotting module."
   ],
   "metadata": {}
  },
  {
   "cell_type": "code",
   "execution_count": 1,
   "source": [
    "from my_imports import *\n",
    "from REvIEW_plots import gen_plots, line_incrementer"
   ],
   "outputs": [],
   "metadata": {}
  },
  {
   "cell_type": "markdown",
   "source": [
    "### Directories\n",
    "\n",
    "Define the location of the spectra (```spectra_path```) and line list (```line_list_path```). \n",
    "\n",
    "You will need to create a directory where you can put the ew .png and the output csv.\n"
   ],
   "metadata": {}
  },
  {
   "cell_type": "code",
   "execution_count": 2,
   "source": [
    "#line_list_path = '/Users/maddie/Desktop/M22/line lists'\n",
    "spectra_path = '/Users/maddie/Desktop/M22/spectra'\n",
    "ew_path = '/Users/maddie/Desktop/M22/equivelant widths/REvIEW 2'\n",
    "\n",
    "\n",
    "\n",
    "# Steph's stars\n",
    "line_list_path = '/Users/maddie/Documents/steph_daospec/line lists'\n",
    "#spectra_path = '/Users/maddie/Documents/steph_daospec/StephSpecsTxt'\n",
    "#ew_path = '/Users/maddie/Documents/steph_daospec/ref'"
   ],
   "outputs": [],
   "metadata": {}
  },
  {
   "cell_type": "markdown",
   "source": [
    "### Spectra files\n",
    "\n",
    "Pass a list of file names (```file_names```) that will be analysed. These must have the same names that appear in the ```spectra_path``` direcotry.\n",
    "\n",
    "***note:*** UVES spectra has both a blue and red arm so remember to change the names if you want to analyse the total data set.\n",
    "\n",
    "Pass a list of the radial velovity corrections (```rv_correction```). The numbers must line up with the order that you listed your file names. \n"
   ],
   "metadata": {}
  },
  {
   "cell_type": "code",
   "execution_count": 3,
   "source": [
    "#file_names_l = ['scomb2.M22_C.L.txt','scomb2.M22_III-3.L.txt','scomb2.M22_III-14.L.txt','scomb2.M22_III-15.L.txt','scomb2.M22_III-52.L.txt','scomb2.M22_IV-102.L.txt', 'reference_6752.txt']\n",
    "\n",
    "file_names = ['scomb2.M22_C.U.txt','scomb2.M22_III-3.U.txt','scomb2.M22_III-14.U.txt','scomb2.M22_III-15.U.txt','scomb2.M22_III-52.U.txt','scomb2.M22_IV-102.U.txt', 'reference_6752.txt']\n",
    "\n",
    "#file_names_l = ['NGC288-20CR.txt','NGC288-338R.txt','NGC288-281R.txt','NGC288-287R.txt','NGC288-344R.txt','NGC288-351R.txt', 'NGC288-403R.txt', 'NGC288-531R.txt']\n",
    "\n",
    "#file_names_l = ['NGC288-20CB.txt','NGC288-338B.txt','NGC288-281B.txt','NGC288-287B.txt','NGC288-344B.txt','NGC288-351B.txt', 'NGC288-403B.txt', 'NGC288-531B.txt']\n",
    "\n",
    "#file_names_l = ['NGC362-1137R.txt','NGC362-1334R.txt','NGC362-1401R.txt','NGC362-1423R.txt','NGC362-1441R.txt','NGC362-2127R.txt', 'NGC362-77R.txt', 'NGC362-MB2R.txt']\n",
    "\n",
    "#file_names_l = ['RefStar.txt']\n",
    "\n",
    "# M 22\n",
    "rv_correction = [-178.3, -122.7, -178.3, -118.1, -158.0, -108.2, -36.5]\n",
    "#rv_correction = [-36.277]\n",
    "\n",
    "# NGC 288\n",
    "#rv_correction = [-73.608, -51.457, -57.208, -56.192, -64.926, -63.324, -71.898, -68.111]\n",
    "\n",
    "# NGC 362\n",
    "#rv_correction = [226.846, 217.118, 232.262, 232.964, 228.204, 218.899, 227.229, 237.344]\n"
   ],
   "outputs": [],
   "metadata": {}
  },
  {
   "cell_type": "markdown",
   "source": [
    "## Line list\n",
    "Add the name of the line list which appears in the ```line_list_path``` directory.\n",
    "\n",
    "Rest of the code will import the line list. This assumes that there is no header lines in the file and the first two columns are the wavelength and species.\n",
    "\n",
    "Some edits might need to be made if the line list has any header lines. "
   ],
   "metadata": {}
  },
  {
   "cell_type": "code",
   "execution_count": null,
   "source": [
    "#linelist_name = \"line.list20\"\n",
    "linelist_name = \"stephlinelist2.dat\"\n",
    "\n",
    "# Import the line list\n",
    "os.chdir(line_list_path)\n",
    "linelist2 = pd.read_table(linelist_name, sep=\"\\s+\", header=0, usecols = [0, 1],\n",
    "                            names = ['wavelength', 'species'])"
   ],
   "outputs": [],
   "metadata": {}
  },
  {
   "cell_type": "markdown",
   "source": [
    "## Main celll for running REvIEW\n",
    "\n",
    "### Variables\n",
    "Three variables must be set:\n",
    "\n",
    "```n_spectra:``` the number of spectra you are fitting to. Usually it's the same length as your ```file_names``` array but setting it to 1 is good for debugging/testing.\n",
    "\n",
    "```lower_line_bound:``` the code will take any lines in the line list which are *higher* than this bound.\n",
    "\n",
    "```upper_line_bound:``` the code will take any lines in the line list which are *lower* than this bound.\n",
    "\n",
    "*note:* best to look at <=8 stars per run of review otherwise the plots become difficult to read. \n",
    "\n",
    "### Making the CSV\n",
    "Creates a new csv with the name ```fit_outputs.csv``` if one doesn't already exist.\n",
    "The csv is closed at the very end of the cell. If the code crashes within the main loop, nothing will be written to the csv.\n",
    "\n",
    "### Main loop\n",
    "The plotting function ```gen_plots``` from ```REvIEW_plots.py``` is called in the main loop which iterates through all the lines within the line bounds.\n"
   ],
   "metadata": {}
  },
  {
   "cell_type": "code",
   "execution_count": 5,
   "source": [
    "# Set these three variables\n",
    "n_spectra = 7\n",
    "lower_line_bound = 6645\n",
    "upper_line_bound = 6646\n",
    "\n",
    "# navigate to the directory where you will store your data\n",
    "os.chdir(ew_path)\n",
    "\n",
    "# Prepare the csv\n",
    "if os.path.exists('fit_outputs.csv'):\n",
    "    #just open\n",
    "    output_csv  = open('fit_outputs.csv', \"a+\")\n",
    "else:\n",
    "    # open and write the headder\n",
    "    output_csv  = open('fit_outputs.csv', \"a+\")\n",
    "    # csv headder\n",
    "    output_csv.write('line,star_name,flux_ratio,centre,sigma,ew,chi2,d,flag\\n')\n",
    "\n",
    "\n",
    "# Main loop which runs REvIEW\n",
    "for line_info in line_incrementer(linelist2, 6645, 6646):\n",
    "    # if theres been an error and yoou need to debug\n",
    "    #print('line ', line_info[0])\n",
    "    gen_plots(n_spectra, file_names_l, rv_correction, output_csv, spectra_path, ew_path, line_info[0], line_info[1], line_info[2], line_info[3])\n",
    "\n",
    "# close the file\n",
    "output_csv.close()"
   ],
   "outputs": [
    {
     "output_type": "stream",
     "name": "stdout",
     "text": [
      "line  6645.06\n"
     ]
    }
   ],
   "metadata": {
    "tags": []
   }
  }
 ]
}