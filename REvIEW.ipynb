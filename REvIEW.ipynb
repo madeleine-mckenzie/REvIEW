{
 "cells": [
  {
   "cell_type": "markdown",
   "metadata": {},
   "source": [
    "# REvIEW\n",
    "## Equivalent width calculator\n",
    "***R***outine for\n",
    "***Ev***aluating and \n",
    "***I***nspecting\n",
    "***E***quivalent\n",
    "***W***idths\n",
    "\n",
    "\n",
    "Based on postage40mpfit.pro by Dr David Yong.\n",
    "\n",
    "This notebook should output a .csv file and a plot for every equivelent width (EW) that you are fitting.\n",
    "\n",
    "\n",
    "\n",
    "### Relavent files\n",
    "\n",
    "There are two files which contain all the functions.\n",
    "\n",
    "```REvIEW_plots.py```: concerns any functions in charge of creating the plots. These funcitons call the fitting functions within the plotting functions.\n",
    "\n",
    "```REvIEW_fitting.py```: contains all the fitting functions. This includes the gradient preprocessing algorithm and the variable gaussian fitting functions. \n",
    "\n",
    "**NN directory**\n",
    "\n",
    "note: needed to install\n",
    "```bash\n",
    "conda install pytorch torchvision torchaudio -c pytorch\n",
    "``` \n",
    "to get the ML plug in to work\n",
    "\n",
    "### Example files\n",
    "To test REvIEW on your machine, you can use a subset of the spectra from two stars analysed in McKenzie et al. 2022 along with the corresponding line list. Compare the ```fit_outputs_example.csv``` to see if the EWs are in agreement. "
   ]
  },
  {
   "cell_type": "markdown",
   "metadata": {},
   "source": [
    "## Imports\n",
    "\n",
    "Add any additional python imports that you might want here. \n",
    "\n",
    "There are two files which contain REvIEW functions. The only functions that are needed here are in the plotting module."
   ]
  },
  {
   "cell_type": "code",
   "execution_count": 4,
   "metadata": {},
   "outputs": [],
   "source": [
    "import os\n",
    "import pandas as pd\n",
    "\n",
    "# gen_plots generates the EW plots\n",
    "# line_incrementer itterates through the line list,\n",
    "# passing the lines that need to be plotted.\n",
    "from REvIEW_plots import gen_plots, line_incrementer"
   ]
  },
  {
   "cell_type": "markdown",
   "metadata": {},
   "source": [
    "### Directories\n",
    "\n",
    "Define the location of the current REvIEW notebook (```review_path```), spectra (```spectra_path```), line list (```line_list_path```) and where you would like the plots of the EWs to be placed (```ew_path```). \n",
    "\n",
    "You will need to create a directory where you can put the ew .png and the output csv.\n"
   ]
  },
  {
   "cell_type": "code",
   "execution_count": 23,
   "metadata": {},
   "outputs": [],
   "source": [
    "###  Edit these for your own system!!  ###\n",
    "\n",
    "# The directory that contains this jupyter notebook\n",
    "review_path    = os. getcwd()\n",
    "# The directory that has your line list\n",
    "line_list_path = os. getcwd() + '/examples/example_linelist'\n",
    "# The directory that has your spectra (in .txt format)\n",
    "spectra_path   = os. getcwd() + '/examples/example_spectra'\n",
    "# The direcrtory where you would like the plots of EW to be placed\n",
    "ew_path        = os. getcwd() + '/examples/example_ew'"
   ]
  },
  {
   "cell_type": "markdown",
   "metadata": {},
   "source": [
    "### Spectra files\n",
    "\n",
    "Pass a list of file names (```file_names```) that will be analysed. These must have the same names that appear in the ```spectra_path``` directory. The spectra must be continuum normalised. If they have also been shifted to rest frame wavelengths, enter 0 for ```rv_correction```.\n",
    "\n",
    "Pass a list of the radial velovity corrections (```rv_correction```). The numbers must line up with the order that you listed your file names. \n",
    "\n",
    "It is reccomended that you run no more that **8** stars at a time, otherwise inspecting the plots afterwards becomes far more difficult. "
   ]
  },
  {
   "cell_type": "code",
   "execution_count": 24,
   "metadata": {},
   "outputs": [],
   "source": [
    "file_names = ['M22_III-3_example.txt', 'M22_III-14_example.txt']\n",
    "\n",
    "rv_correction = [-122.7, -178.3]\n",
    "\n",
    "\n",
    "# check that these spectra are in the directory you passed.\n",
    "# If nothing is printed, REvIEW can find the spectra\n",
    "os.chdir(spectra_path)\n",
    "for file in file_names:\n",
    "    if not os.path.isfile(file):\n",
    "        print('warning, could not find file ', file)"
   ]
  },
  {
   "cell_type": "markdown",
   "metadata": {},
   "source": [
    "## Line list\n",
    "Add the name of the line list which appears in the ```line_list_path``` directory.\n",
    "\n",
    "Import the line list as a pandas datafrane with the headdings 'wavelength' and 'species' (the code doesn't use any other columns). The current code assumes that there is no header lines in the file and the first two columns are the wavelength and species.\n",
    "\n",
    "It's a good idea to look at the ```linelist``` pandas dataframe (create a new cell with only ```linelist``` to have the contense pop up). Some edits might need to be made if the line list has any header lines. "
   ]
  },
  {
   "cell_type": "code",
   "execution_count": 25,
   "metadata": {},
   "outputs": [],
   "source": [
    "linelist_name = \"example_linelist.dat\"\n",
    "\n",
    "# Import the line list\n",
    "os.chdir(line_list_path)\n",
    "linelist = pd.read_table(linelist_name, sep=\"\\s+\", usecols = [0, 1],\n",
    "                            names = ['wavelength', 'species'])"
   ]
  },
  {
   "cell_type": "markdown",
   "metadata": {},
   "source": [
    "## Main celll for running REvIEW\n",
    "\n",
    "### Variables\n",
    "Three variables must be set:\n",
    "\n",
    "```n_spectra:``` the number of spectra you are fitting to. Usually it's the same length as your ```file_names``` array but setting it to 1 is good for debugging/testing.\n",
    "\n",
    "```lower_line_bound:``` the code will take any lines in the line list which are *higher* than this bound.\n",
    "\n",
    "```upper_line_bound:``` the code will take any lines in the line list which are *lower* than this bound.\n",
    "\n",
    "*note:* best to look at <=8 stars per run of review otherwise the plots become difficult to read. \n",
    "\n",
    "### Making the CSV\n",
    "Creates a new csv with the name ```fit_outputs.csv``` if one doesn't already exist.\n",
    "The csv is closed at the very end of the cell. If the code crashes within the main loop, nothing will be written to the csv.\n",
    "\n",
    "### Main loop\n",
    "The plotting function ```gen_plots``` from ```REvIEW_plots.py``` is called in the main loop which iterates through all the lines within the line bounds.\n",
    "\n",
    "Once you have run this block once, check the file ```fit_outputs.csv``` to make sure things are looking normal. Any subsiquent evaluations of this cell will **append** to this csv, not overwrite it (i.e. if there is any bad data there that you don't want, delete this file and re-run this cell). \n"
   ]
  },
  {
   "cell_type": "code",
   "execution_count": 26,
   "metadata": {
    "tags": []
   },
   "outputs": [
    {
     "name": "stdout",
     "output_type": "stream",
     "text": [
      "line  4786.807\n",
      "line  4789.651\n",
      "line  4794.36\n",
      "line  4798.27\n",
      "line  4800.649\n",
      "line  4802.88\n",
      "line  4808.16\n",
      "line  4839.55\n",
      "line  4848.88\n"
     ]
    }
   ],
   "source": [
    "# Set the number of stars to analyse\n",
    "# (probably the number of filenames you entered)\n",
    "n_spectra = len(file_names)\n",
    "\n",
    "\n",
    "\n",
    "# What wavelength in the line list would you like to start?\n",
    "lower_line_bound = 4780 # Angstroms\n",
    "# What wavelength in the line list would you like to finish?\n",
    "upper_line_bound = 4850 # Angstroms\n",
    "\n",
    "\n",
    "\n",
    "# REvIEW will now analyse all lines between these wavelengths\n",
    "\n",
    "\n",
    "\n",
    "# navigate to the directory where you will store your data\n",
    "os.chdir(ew_path)\n",
    "\n",
    "# Prepare the csv\n",
    "if os.path.exists('fit_outputs.csv'):\n",
    "    #just open\n",
    "    output_csv  = open('fit_outputs.csv', \"a+\")\n",
    "else:\n",
    "    # open and write the headder\n",
    "    output_csv  = open('fit_outputs.csv', \"a+\")\n",
    "    # csv headder\n",
    "    output_csv.write('line,star_name,flux_ratio,centre,sigma,ew,chi2,d,flag\\n')\n",
    "\n",
    "\n",
    "# Main loop which runs REvIEW\n",
    "for line_info in line_incrementer(linelist, lower_line_bound, upper_line_bound):\n",
    "    # Comment this line if you don't want to see which line you are up to in the line list. \n",
    "    print('line ', line_info[0])\n",
    "    gen_plots(n_spectra, file_names, rv_correction, output_csv, spectra_path, ew_path, review_path, line_info[0], line_info[1], line_info[2], line_info[3])\n",
    "\n",
    "# close the file\n",
    "output_csv.close()"
   ]
  },
  {
   "cell_type": "markdown",
   "metadata": {},
   "source": []
  }
 ],
 "metadata": {
  "kernelspec": {
   "display_name": "Python 3",
   "language": "python",
   "name": "python3"
  },
  "language_info": {
   "codemirror_mode": {
    "name": "ipython",
    "version": 3
   },
   "file_extension": ".py",
   "mimetype": "text/x-python",
   "name": "python",
   "nbconvert_exporter": "python",
   "pygments_lexer": "ipython3",
   "version": "3.9.7"
  },
  "vscode": {
   "interpreter": {
    "hash": "40d3a090f54c6569ab1632332b64b2c03c39dcf918b08424e98f38b5ae0af88f"
   }
  }
 },
 "nbformat": 4,
 "nbformat_minor": 2
}
